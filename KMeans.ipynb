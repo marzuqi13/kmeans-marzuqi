{
 "cells": [
  {
   "cell_type": "code",
   "execution_count": 1,
   "metadata": {},
   "outputs": [],
   "source": [
    "\n",
    "import pandas as pd\n",
    "import numpy as np\n",
    "import matplotlib.pyplot as plt\n",
    "from sklearn.cluster import KMeans"
   ]
  },
  {
   "cell_type": "code",
   "execution_count": 2,
   "metadata": {},
   "outputs": [],
   "source": [
    "df = pd.DataFrame({\n",
    "    'x':[5,23,76,21,52,67,99,87,12,45,97,68,87,32,15,57,44,22,67,9,15,85,34,25,16,51,73,75,25,41],\n",
    "    'y':[63,52,41,7,4,10,99,7,64,8,9,18,28,74,59,30,50,89,11,16,28,33,44,54,39,20,88,75,72,30]\n",
    "})"
   ]
  },
  {
   "cell_type": "code",
   "execution_count": 3,
   "metadata": {},
   "outputs": [
    {
     "name": "stdout",
     "output_type": "stream",
     "text": [
      "     x   y\n",
      "0    5  63\n",
      "1   23  52\n",
      "2   76  41\n",
      "3   21   7\n",
      "4   52   4\n",
      "5   67  10\n",
      "6   99  99\n",
      "7   87   7\n",
      "8   12  64\n",
      "9   45   8\n",
      "10  97   9\n",
      "11  68  18\n",
      "12  87  28\n",
      "13  32  74\n",
      "14  15  59\n",
      "15  57  30\n",
      "16  44  50\n",
      "17  22  89\n",
      "18  67  11\n",
      "19   9  16\n",
      "20  15  28\n",
      "21  85  33\n",
      "22  34  44\n",
      "23  25  54\n",
      "24  16  39\n",
      "25  51  20\n",
      "26  73  88\n",
      "27  75  75\n",
      "28  25  72\n",
      "29  41  30\n"
     ]
    },
    {
     "data": {
      "text/plain": [
       "KMeans(algorithm='auto', copy_x=True, init='k-means++', max_iter=300,\n",
       "       n_clusters=3, n_init=10, n_jobs=None, precompute_distances='auto',\n",
       "       random_state=None, tol=0.0001, verbose=0)"
      ]
     },
     "execution_count": 3,
     "metadata": {},
     "output_type": "execute_result"
    }
   ],
   "source": [
    "print(df)\n",
    "clustering = KMeans(n_clusters=3)\n",
    "clustering.fit(df)"
   ]
  },
  {
   "cell_type": "code",
   "execution_count": 4,
   "metadata": {},
   "outputs": [
    {
     "name": "stdout",
     "output_type": "stream",
     "text": [
      "[[82.33333333 87.33333333]\n",
      " [69.91666667 18.25      ]\n",
      " [22.6        49.4       ]]\n",
      "[2 2 1 2 1 1 0 1 2 1 1 1 1 2 2 1 2 2 1 2 2 1 2 2 2 1 0 0 2 2]\n"
     ]
    },
    {
     "data": {
      "image/png": "[encoded data removed]",
      "text/plain": [
       "<Figure size 432x432 with 1 Axes>"
      ]
     },
     "metadata": {
      "needs_background": "light"
     },
     "output_type": "display_data"
    }
   ],
   "source": [
    "centroids = clustering.cluster_centers_\n",
    "labels = clustering.labels_\n",
    "\n",
    "print(centroids)\n",
    "print(labels)\n",
    "\n",
    "\n",
    "\n",
    "fig = plt.figure(figsize=(6,6))\n",
    "colmap = {1 : 'r',2 : 'g',3 : 'b'}\n",
    "plt.scatter(df['x'],df['y'], color='k')\n",
    " \n",
    "\n",
    "for i, centroids in enumerate(centroids):\n",
    "    plt.scatter(*centroids, color=colmap[i+1])\n",
    "\n",
    "    \n",
    "plt.xlim(0, 100)\n",
    "plt.ylim(0, 100)\n",
    "plt.show()\n",
    "\n",
    "\n",
    "\n",
    "\n"
   ]
  },
  {
   "cell_type": "code",
   "execution_count": 5,
   "metadata": {},
   "outputs": [
    {
     "name": "stdout",
     "output_type": "stream",
     "text": [
      "['b', 'b', 'g', 'b', 'g', 'g', 'r', 'g', 'b', 'g', 'g', 'g', 'g', 'b', 'b', 'g', 'b', 'b', 'g', 'b', 'b', 'g', 'b', 'b', 'b', 'g', 'r', 'r', 'b', 'b']\n"
     ]
    },
    {
     "data": {
      "image/png": "[encoded data removed]",
      "text/plain": [
       "<Figure size 432x432 with 1 Axes>"
      ]
     },
     "metadata": {
      "needs_background": "light"
     },
     "output_type": "display_data"
    }
   ],
   "source": [
    "fig = plt.figure(figsize=(6,6))\n",
    "\n",
    "c = []\n",
    "for cc in range (len(labels)):\n",
    "    if labels[cc] == 0:\n",
    "        c.append('r')\n",
    "    elif labels[cc] == 1:\n",
    "        c.append('g')\n",
    "    else:\n",
    "        c.append('b')\n",
    "\n",
    "print(c)\n",
    "    \n",
    "\n",
    "\n",
    "\n",
    "plt.scatter(df['x'],df['y'], color=c, alpha=0.5, edgecolor='k')\n",
    " \n",
    "\n",
    "\n",
    "    \n",
    "plt.xlim(0, 100)\n",
    "plt.ylim(0, 100)\n",
    "plt.show()\n"
   ]
  },
  {
   "cell_type": "code",
   "execution_count": 27,
   "metadata": {},
   "outputs": [
    {
     "ename": "SyntaxError",
     "evalue": "can't use starred expression here (<ipython-input-27-413a4f4ee0c5>, line 4)",
     "output_type": "error",
     "traceback": [
      "\u001b[1;36m  File \u001b[1;32m\"<ipython-input-27-413a4f4ee0c5>\"\u001b[1;36m, line \u001b[1;32m4\u001b[0m\n\u001b[1;31mSyntaxError\u001b[0m\u001b[1;31m:\u001b[0m can't use starred expression here\n"
     ]
    }
   ],
   "source": []
  },
  {
   "cell_type": "code",
   "execution_count": null,
   "metadata": {},
   "outputs": [],
   "source": []
  }
 ],
 "metadata": {
  "kernelspec": {
   "display_name": "Python 3",
   "language": "python",
   "name": "python3"
  },
  "language_info": {
   "codemirror_mode": {
    "name": "ipython",
    "version": 3
   },
   "file_extension": ".py",
   "mimetype": "text/x-python",
   "name": "python",
   "nbconvert_exporter": "python",
   "pygments_lexer": "ipython3",
   "version": "3.7.3"
  }
 },
 "nbformat": 4,
 "nbformat_minor": 2
}
